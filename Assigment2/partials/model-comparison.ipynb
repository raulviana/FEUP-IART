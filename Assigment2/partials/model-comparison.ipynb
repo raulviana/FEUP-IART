{
 "cells": [
  {
   "cell_type": "markdown",
   "metadata": {},
   "source": [
    "# Assignment 2 - Machine Learning\n",
    "## FEUP MIEIC - Inteligência Artificial *(EIC0029/IART)*\n",
    "\n"
   ]
  },
  {
   "cell_type": "markdown",
   "metadata": {},
   "source": [
    "## Model Comparison partial notebook\n",
    "\n",
    "This Jupyter Notebook compares the results of the three distinct implemented Machine Learning Models. <br><br>\n",
    "*The content of this notebook will be also included in the complete notebook named **IART-MachineLearning.ipynb** that can be found in the root directory of this repository*\n",
    "\n",
    "***"
   ]
  },
  {
   "cell_type": "markdown",
   "metadata": {},
   "source": [
    "Ambos os algoritmos devem\n",
    "• Aprender nos mesmos conjuntos de treino\n",
    "• Avaliar os modelos induzidos nos mesmos conjuntos de teste\n",
    "• Testar: existe uma diferença significativa no desempenho\n",
    "• Hipótese nula- H0: não há diferença significativa\n",
    "• Hipótese alternativa- H1: há diferença significativa\n",
    "• Usar o teste t para amostras emparelhadas/Wilcoxon\n",
    "• permite inferir sobre a igualdade das médias/distribuições de duas amostras emparelhadas\n",
    "• se as amostras têm dimensão inferior a 30 ⇒ as amostras devem provir de populações normalmente distribuídas"
   ]
  },
  {
   "cell_type": "code",
   "execution_count": null,
   "metadata": {},
   "outputs": [],
   "source": []
  }
 ],
 "metadata": {
  "kernelspec": {
   "display_name": "Python 3",
   "language": "python",
   "name": "python3"
  },
  "language_info": {
   "codemirror_mode": {
    "name": "ipython",
    "version": 3
   },
   "file_extension": ".py",
   "mimetype": "text/x-python",
   "name": "python",
   "nbconvert_exporter": "python",
   "pygments_lexer": "ipython3",
   "version": "3.7.6-final"
  }
 },
 "nbformat": 4,
 "nbformat_minor": 4
}
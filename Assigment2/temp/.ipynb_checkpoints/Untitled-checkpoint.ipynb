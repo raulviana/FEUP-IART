{
 "cells": [
  {
   "cell_type": "code",
   "execution_count": 1,
   "metadata": {},
   "outputs": [],
   "source": [
    "import sqlite3\n",
    "import pandas as pd\n",
    "import numpy as np\n",
    "import matplotlib.pyplot as plt"
   ]
  },
  {
   "cell_type": "code",
   "execution_count": 2,
   "metadata": {},
   "outputs": [],
   "source": [
    "#Conexao a db\n",
    "database = 'database.sqlite'\n",
    "con = sqlite3.connect(database)"
   ]
  },
  {
   "cell_type": "code",
   "execution_count": 3,
   "metadata": {},
   "outputs": [],
   "source": [
    "#Get main tables from db\n",
    "countries = pd.read_sql_query(\"SELECT * from Country\", con)\n",
    "matches = pd.read_sql_query(\"SELECT * from Match\", con)\n",
    "leagues = pd.read_sql_query(\"SELECT * from League\", con)\n",
    "teams = pd.read_sql_query(\"SELECT * from Team\", con)"
   ]
  },
  {
   "cell_type": "code",
   "execution_count": 4,
   "metadata": {},
   "outputs": [],
   "source": [
    "#Replace league_id for its name to make it easier to analyse the data.\n",
    "league_id_map = leagues.set_index('id').to_dict()['name']\n",
    "matches['league_id'] = matches['league_id'].map(league_id_map)\n",
    "\n",
    "#Replace country_id for its name.\n",
    "country_id_map = countries.set_index('id').to_dict()['name']\n",
    "matches['country_id'] = matches['country_id'].map(country_id_map)\n",
    "\n",
    "#Replace team_id for its name.\n",
    "team_id_map = teams.set_index('team_api_id').to_dict()['team_long_name']\n",
    "matches['home_team_api_id'] = matches['home_team_api_id'].map(team_id_map)\n",
    "matches['away_team_api_id'] = matches['away_team_api_id'].map(team_id_map)"
   ]
  },
  {
   "cell_type": "code",
   "execution_count": 5,
   "metadata": {},
   "outputs": [
    {
     "data": {
      "text/html": [
       "<div>\n",
       "<style scoped>\n",
       "    .dataframe tbody tr th:only-of-type {\n",
       "        vertical-align: middle;\n",
       "    }\n",
       "\n",
       "    .dataframe tbody tr th {\n",
       "        vertical-align: top;\n",
       "    }\n",
       "\n",
       "    .dataframe thead th {\n",
       "        text-align: right;\n",
       "    }\n",
       "</style>\n",
       "<table border=\"1\" class=\"dataframe\">\n",
       "  <thead>\n",
       "    <tr style=\"text-align: right;\">\n",
       "      <th></th>\n",
       "      <th>home_team_goal</th>\n",
       "      <th>away_team_goal</th>\n",
       "    </tr>\n",
       "    <tr>\n",
       "      <th>league_id</th>\n",
       "      <th></th>\n",
       "      <th></th>\n",
       "    </tr>\n",
       "  </thead>\n",
       "  <tbody>\n",
       "    <tr>\n",
       "      <th>Belgium Jupiler League</th>\n",
       "      <td>57.446809</td>\n",
       "      <td>42.553191</td>\n",
       "    </tr>\n",
       "    <tr>\n",
       "      <th>England Premier League</th>\n",
       "      <td>57.220874</td>\n",
       "      <td>42.779126</td>\n",
       "    </tr>\n",
       "    <tr>\n",
       "      <th>France Ligue 1</th>\n",
       "      <td>57.425609</td>\n",
       "      <td>42.574391</td>\n",
       "    </tr>\n",
       "    <tr>\n",
       "      <th>Germany 1. Bundesliga</th>\n",
       "      <td>56.060819</td>\n",
       "      <td>43.939181</td>\n",
       "    </tr>\n",
       "    <tr>\n",
       "      <th>Italy Serie A</th>\n",
       "      <td>57.352755</td>\n",
       "      <td>42.647245</td>\n",
       "    </tr>\n",
       "    <tr>\n",
       "      <th>Netherlands Eredivisie</th>\n",
       "      <td>57.769822</td>\n",
       "      <td>42.230178</td>\n",
       "    </tr>\n",
       "    <tr>\n",
       "      <th>Poland Ekstraklasa</th>\n",
       "      <td>57.517182</td>\n",
       "      <td>42.482818</td>\n",
       "    </tr>\n",
       "    <tr>\n",
       "      <th>Portugal Liga ZON Sagres</th>\n",
       "      <td>55.566237</td>\n",
       "      <td>44.433763</td>\n",
       "    </tr>\n",
       "    <tr>\n",
       "      <th>Scotland Premier League</th>\n",
       "      <td>54.267277</td>\n",
       "      <td>45.732723</td>\n",
       "    </tr>\n",
       "    <tr>\n",
       "      <th>Spain LIGA BBVA</th>\n",
       "      <td>58.951498</td>\n",
       "      <td>41.048502</td>\n",
       "    </tr>\n",
       "    <tr>\n",
       "      <th>Switzerland Super League</th>\n",
       "      <td>56.769083</td>\n",
       "      <td>43.230917</td>\n",
       "    </tr>\n",
       "  </tbody>\n",
       "</table>\n",
       "</div>"
      ],
      "text/plain": [
       "                          home_team_goal  away_team_goal\n",
       "league_id                                               \n",
       "Belgium Jupiler League         57.446809       42.553191\n",
       "England Premier League         57.220874       42.779126\n",
       "France Ligue 1                 57.425609       42.574391\n",
       "Germany 1. Bundesliga          56.060819       43.939181\n",
       "Italy Serie A                  57.352755       42.647245\n",
       "Netherlands Eredivisie         57.769822       42.230178\n",
       "Poland Ekstraklasa             57.517182       42.482818\n",
       "Portugal Liga ZON Sagres       55.566237       44.433763\n",
       "Scotland Premier League        54.267277       45.732723\n",
       "Spain LIGA BBVA                58.951498       41.048502\n",
       "Switzerland Super League       56.769083       43.230917"
      ]
     },
     "execution_count": 5,
     "metadata": {},
     "output_type": "execute_result"
    }
   ],
   "source": [
    "# Goals avg per league\n",
    "avg_goals_league = matches[['league_id','home_team_goal','away_team_goal']].groupby('league_id').mean()\n",
    "\n",
    "\n",
    "total_goals = avg_goals_league.home_team_goal + avg_goals_league.away_team_goal\n",
    "\n",
    "avg_goals_league.home_team_goal = avg_goals_league.home_team_goal / total_goals * 100\n",
    "avg_goals_league.away_team_goal = avg_goals_league.away_team_goal / total_goals * 100\n",
    "\n",
    "avg_goals_league\n",
    "\n",
    "# Conclusion: home teams have advantage"
   ]
  },
  {
   "cell_type": "code",
   "execution_count": 67,
   "metadata": {},
   "outputs": [
    {
     "data": {
      "text/plain": [
       "[45.87166557604219, 25.389737865198814, 28.738596558759]"
      ]
     },
     "execution_count": 67,
     "metadata": {},
     "output_type": "execute_result"
    }
   ],
   "source": [
    "# Home win \n",
    "\n",
    "goals_per_match = matches[['home_team_goal','away_team_goal']]\n",
    "wins = 0\n",
    "draws = 0\n",
    "\n",
    "for index, row in goals_per_match.iterrows():\n",
    "    if row['home_team_goal'] > row['away_team_goal']:\n",
    "        wins += 1\n",
    "    if row['home_team_goal'] == row['away_team_goal']:\n",
    "        draws += 1\n",
    "        \n",
    "\n",
    "total_matches = len(goals_per_match)\n",
    "loss = total_matches - wins - draws\n",
    "\n",
    "percs = [wins/total_matches*100,draws/total_matches*100, loss/total_matches*100]\n",
    "percs\n",
    "\n",
    "#Conclusion : this confirms that \"home team wins about 46% of the time\""
   ]
  },
  {
   "cell_type": "code",
   "execution_count": null,
   "metadata": {},
   "outputs": [],
   "source": []
  }
 ],
 "metadata": {
  "kernelspec": {
   "display_name": "Python 3",
   "language": "python",
   "name": "python3"
  },
  "language_info": {
   "codemirror_mode": {
    "name": "ipython",
    "version": 3
   },
   "file_extension": ".py",
   "mimetype": "text/x-python",
   "name": "python",
   "nbconvert_exporter": "python",
   "pygments_lexer": "ipython3",
   "version": "3.7.6"
  }
 },
 "nbformat": 4,
 "nbformat_minor": 4
}
